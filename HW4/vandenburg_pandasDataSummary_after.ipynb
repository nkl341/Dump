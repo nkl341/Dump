{
 "cells": [
  {
   "cell_type": "markdown",
   "metadata": {},
   "source": [
    "# How to Summarize Data in Python\n",
    "## (Based on the LinkedIn Learning Course Machine Learning with Python: Foundations by Frederick Nwanganga)"
   ]
  },
  {
   "cell_type": "markdown",
   "metadata": {},
   "source": [
    "## Learning Objectives\n",
    "When exploring data, one of the most important things we can do is summarize it so we can better understand it. A common way to summarize data is by computing aggregations such as mean, median, maximum and minimum. These aggregations or statistical measures (as they are commonly referred to) describe the general and specific characteristics of our data. This is why these types of aggregations are sometimes referred to as **descriptive statistics** or **summary statistics**. The pandas DataFrame provides several methods for computing descriptive statistics. By the end of this tutorial, you will have learned:\n",
    "+ how to get high level descriptive info on a DataFrame\n",
    "+ how to describe a DataFrame\n",
    "+ how to get simple aggregations\n",
    "+ how to get group-level aggregations\n",
    "+ how to do a box plot with the DataFrame data\n",
    "+ how to do a scatter plot with the DataFrame data"
   ]
  },
  {
   "cell_type": "markdown",
   "metadata": {},
   "source": [
    "## How to Describe a DataFrame"
   ]
  },
  {
   "cell_type": "code",
   "execution_count": 1,
   "metadata": {},
   "outputs": [],
   "source": [
    "import pandas as pd\n",
    "irisData_df = pd.read_csv(\"irisData_modified.csv\")\n",
    "envData_df = pd.read_csv(\"seth_environmentalData_march2023.csv\")\n",
    "dateFruitData_df = pd.read_csv(\"DateFruitData_kaggle.csv\")"
   ]
  },
  {
   "cell_type": "code",
   "execution_count": 2,
   "metadata": {},
   "outputs": [
    {
     "name": "stdout",
     "output_type": "stream",
     "text": [
      "<class 'pandas.core.frame.DataFrame'>\n",
      "RangeIndex: 150 entries, 0 to 149\n",
      "Data columns (total 5 columns):\n",
      " #   Column           Non-Null Count  Dtype  \n",
      "---  ------           --------------  -----  \n",
      " 0   septalLength_cm  150 non-null    float64\n",
      " 1   septalWidth_cm   149 non-null    float64\n",
      " 2   petalLength_mm   150 non-null    int64  \n",
      " 3   petalWidth_cm    150 non-null    float64\n",
      " 4   type             150 non-null    object \n",
      "dtypes: float64(3), int64(1), object(1)\n",
      "memory usage: 6.0+ KB\n"
     ]
    }
   ],
   "source": [
    "irisData_df.info()\n"
   ]
  },
  {
   "cell_type": "code",
   "execution_count": 3,
   "metadata": {},
   "outputs": [
    {
     "data": {
      "text/html": [
       "<div>\n",
       "<style scoped>\n",
       "    .dataframe tbody tr th:only-of-type {\n",
       "        vertical-align: middle;\n",
       "    }\n",
       "\n",
       "    .dataframe tbody tr th {\n",
       "        vertical-align: top;\n",
       "    }\n",
       "\n",
       "    .dataframe thead th {\n",
       "        text-align: right;\n",
       "    }\n",
       "</style>\n",
       "<table border=\"1\" class=\"dataframe\">\n",
       "  <thead>\n",
       "    <tr style=\"text-align: right;\">\n",
       "      <th></th>\n",
       "      <th>septalLength_cm</th>\n",
       "      <th>septalWidth_cm</th>\n",
       "      <th>petalLength_mm</th>\n",
       "      <th>petalWidth_cm</th>\n",
       "    </tr>\n",
       "  </thead>\n",
       "  <tbody>\n",
       "    <tr>\n",
       "      <th>count</th>\n",
       "      <td>150.000000</td>\n",
       "      <td>149.000000</td>\n",
       "      <td>150.000000</td>\n",
       "      <td>150.000000</td>\n",
       "    </tr>\n",
       "    <tr>\n",
       "      <th>mean</th>\n",
       "      <td>5.843333</td>\n",
       "      <td>3.054362</td>\n",
       "      <td>37.586667</td>\n",
       "      <td>1.198667</td>\n",
       "    </tr>\n",
       "    <tr>\n",
       "      <th>std</th>\n",
       "      <td>0.828066</td>\n",
       "      <td>0.435034</td>\n",
       "      <td>17.644204</td>\n",
       "      <td>0.763161</td>\n",
       "    </tr>\n",
       "    <tr>\n",
       "      <th>min</th>\n",
       "      <td>4.300000</td>\n",
       "      <td>2.000000</td>\n",
       "      <td>10.000000</td>\n",
       "      <td>0.100000</td>\n",
       "    </tr>\n",
       "    <tr>\n",
       "      <th>25%</th>\n",
       "      <td>5.100000</td>\n",
       "      <td>2.800000</td>\n",
       "      <td>16.000000</td>\n",
       "      <td>0.300000</td>\n",
       "    </tr>\n",
       "    <tr>\n",
       "      <th>50%</th>\n",
       "      <td>5.800000</td>\n",
       "      <td>3.000000</td>\n",
       "      <td>43.500000</td>\n",
       "      <td>1.300000</td>\n",
       "    </tr>\n",
       "    <tr>\n",
       "      <th>75%</th>\n",
       "      <td>6.400000</td>\n",
       "      <td>3.300000</td>\n",
       "      <td>51.000000</td>\n",
       "      <td>1.800000</td>\n",
       "    </tr>\n",
       "    <tr>\n",
       "      <th>max</th>\n",
       "      <td>7.900000</td>\n",
       "      <td>4.400000</td>\n",
       "      <td>69.000000</td>\n",
       "      <td>2.500000</td>\n",
       "    </tr>\n",
       "  </tbody>\n",
       "</table>\n",
       "</div>"
      ],
      "text/plain": [
       "       septalLength_cm  septalWidth_cm  petalLength_mm  petalWidth_cm\n",
       "count       150.000000      149.000000      150.000000     150.000000\n",
       "mean          5.843333        3.054362       37.586667       1.198667\n",
       "std           0.828066        0.435034       17.644204       0.763161\n",
       "min           4.300000        2.000000       10.000000       0.100000\n",
       "25%           5.100000        2.800000       16.000000       0.300000\n",
       "50%           5.800000        3.000000       43.500000       1.300000\n",
       "75%           6.400000        3.300000       51.000000       1.800000\n",
       "max           7.900000        4.400000       69.000000       2.500000"
      ]
     },
     "execution_count": 3,
     "metadata": {},
     "output_type": "execute_result"
    }
   ],
   "source": [
    "# try the describe() method on the irisData_df; which column has a missing value and which is scaled differently?\n",
    "irisData_df.describe()"
   ]
  },
  {
   "cell_type": "markdown",
   "metadata": {},
   "source": [
    "## How to get Simple Aggregations\n",
    "The `describe()` method returns a statistical summary for each of the columns in a DataFrame. It's important to note that the descriptive statistics returned by the `describe()` method depends on the data type of a column. For non-numeric columns, the descriptive statistics returned by the method are as follows:\n",
    "\n",
    "|Name      |   Description  |\n",
    "|-----------------|---------------------|\n",
    "| `count`         | Number of non-missing values                       |\n",
    "| `unique`       | Number of unique non-missing values                   |\n",
    "| `top`       | Most commonly occuring value   |\n",
    "| `freq`        | Frequency of the most commonly occuring value                   |\n"
   ]
  },
  {
   "cell_type": "markdown",
   "metadata": {},
   "source": [
    "For numeric columns, the `describe()` method returns the following descriptive statistics:\n",
    "\n",
    "|Name      |   Description  |\n",
    "|-----------------|---------------------|\n",
    "| `count`         | Number of non-missing values                       |\n",
    "| `mean`       | Average of the non-missing values                   |\n",
    "| `std`       | Standard deviation of the values   |\n",
    "| `min`        | Smallest value                  |\n",
    "| `25%`         | 25th percentile                       |\n",
    "| `50%`       | 50th percentile (same as the median)                   |\n",
    "| `75%`       | 75th percentile   |\n",
    "| `max`        | Largest value                   |\n"
   ]
  },
  {
   "cell_type": "code",
   "execution_count": 4,
   "metadata": {},
   "outputs": [
    {
     "data": {
      "text/html": [
       "<div>\n",
       "<style scoped>\n",
       "    .dataframe tbody tr th:only-of-type {\n",
       "        vertical-align: middle;\n",
       "    }\n",
       "\n",
       "    .dataframe tbody tr th {\n",
       "        vertical-align: top;\n",
       "    }\n",
       "\n",
       "    .dataframe thead th {\n",
       "        text-align: right;\n",
       "    }\n",
       "</style>\n",
       "<table border=\"1\" class=\"dataframe\">\n",
       "  <thead>\n",
       "    <tr style=\"text-align: right;\">\n",
       "      <th></th>\n",
       "      <th>septalLength_cm</th>\n",
       "      <th>septalWidth_cm</th>\n",
       "      <th>petalLength_mm</th>\n",
       "      <th>petalWidth_cm</th>\n",
       "      <th>type</th>\n",
       "    </tr>\n",
       "  </thead>\n",
       "  <tbody>\n",
       "    <tr>\n",
       "      <th>0</th>\n",
       "      <td>5.1</td>\n",
       "      <td>3.5</td>\n",
       "      <td>14</td>\n",
       "      <td>0.2</td>\n",
       "      <td>setosa</td>\n",
       "    </tr>\n",
       "    <tr>\n",
       "      <th>1</th>\n",
       "      <td>4.9</td>\n",
       "      <td>3.0</td>\n",
       "      <td>14</td>\n",
       "      <td>0.2</td>\n",
       "      <td>setosa</td>\n",
       "    </tr>\n",
       "    <tr>\n",
       "      <th>2</th>\n",
       "      <td>4.7</td>\n",
       "      <td>3.2</td>\n",
       "      <td>13</td>\n",
       "      <td>0.2</td>\n",
       "      <td>setosa</td>\n",
       "    </tr>\n",
       "    <tr>\n",
       "      <th>3</th>\n",
       "      <td>4.6</td>\n",
       "      <td>3.1</td>\n",
       "      <td>15</td>\n",
       "      <td>0.2</td>\n",
       "      <td>setosa</td>\n",
       "    </tr>\n",
       "    <tr>\n",
       "      <th>4</th>\n",
       "      <td>5.0</td>\n",
       "      <td>3.6</td>\n",
       "      <td>14</td>\n",
       "      <td>0.2</td>\n",
       "      <td>setosa</td>\n",
       "    </tr>\n",
       "  </tbody>\n",
       "</table>\n",
       "</div>"
      ],
      "text/plain": [
       "   septalLength_cm  septalWidth_cm  petalLength_mm  petalWidth_cm    type\n",
       "0              5.1             3.5              14            0.2  setosa\n",
       "1              4.9             3.0              14            0.2  setosa\n",
       "2              4.7             3.2              13            0.2  setosa\n",
       "3              4.6             3.1              15            0.2  setosa\n",
       "4              5.0             3.6              14            0.2  setosa"
      ]
     },
     "execution_count": 4,
     "metadata": {},
     "output_type": "execute_result"
    }
   ],
   "source": [
    "# try the head() method on the irisData_df\n",
    "irisData_df.head()"
   ]
  },
  {
   "cell_type": "code",
   "execution_count": 5,
   "metadata": {},
   "outputs": [
    {
     "data": {
      "text/plain": [
       "count        150\n",
       "unique         3\n",
       "top       setosa\n",
       "freq          50\n",
       "Name: type, dtype: object"
      ]
     },
     "execution_count": 5,
     "metadata": {},
     "output_type": "execute_result"
    }
   ],
   "source": [
    "# try using the describe() method on the irisData_df with the \"type\" column to get statistics on non-numeric data\n",
    "irisData_df['type'].describe()"
   ]
  },
  {
   "cell_type": "code",
   "execution_count": 6,
   "metadata": {
    "scrolled": false
   },
   "outputs": [
    {
     "data": {
      "text/plain": [
       "type\n",
       "setosa        50\n",
       "versicolor    50\n",
       "virginica     50\n",
       "Name: count, dtype: int64"
      ]
     },
     "execution_count": 6,
     "metadata": {},
     "output_type": "execute_result"
    }
   ],
   "source": [
    "# Look at the value_counts() method on the \"type\" column of the irisData_df\n",
    "irisData_df[\"type\"].value_counts()"
   ]
  },
  {
   "cell_type": "code",
   "execution_count": 7,
   "metadata": {
    "colab": {},
    "colab_type": "code",
    "id": "QOw8VY9dl_0e"
   },
   "outputs": [
    {
     "data": {
      "text/html": [
       "<div>\n",
       "<style scoped>\n",
       "    .dataframe tbody tr th:only-of-type {\n",
       "        vertical-align: middle;\n",
       "    }\n",
       "\n",
       "    .dataframe tbody tr th {\n",
       "        vertical-align: top;\n",
       "    }\n",
       "\n",
       "    .dataframe thead th {\n",
       "        text-align: right;\n",
       "    }\n",
       "</style>\n",
       "<table border=\"1\" class=\"dataframe\">\n",
       "  <thead>\n",
       "    <tr style=\"text-align: right;\">\n",
       "      <th></th>\n",
       "      <th>SiteN</th>\n",
       "      <th>State</th>\n",
       "      <th>DO</th>\n",
       "      <th>pH</th>\n",
       "      <th>avg_WW</th>\n",
       "      <th>avg_Depth</th>\n",
       "      <th>pflow_Pool</th>\n",
       "      <th>pflow_Run</th>\n",
       "      <th>pflow_Riffle</th>\n",
       "      <th>pbottom_Mud</th>\n",
       "      <th>...</th>\n",
       "      <th>pbottom_Boulder</th>\n",
       "      <th>pbottom_Bedrock</th>\n",
       "      <th>pfloat_macrophytes</th>\n",
       "      <th>pfloat_wood</th>\n",
       "      <th>upstreamCumDA_km2</th>\n",
       "      <th>slopePercent</th>\n",
       "      <th>avgMonthFlow_cfs</th>\n",
       "      <th>CV_flow</th>\n",
       "      <th>maxMonthFlow_cfs</th>\n",
       "      <th>minMonthFlow_cfs</th>\n",
       "    </tr>\n",
       "  </thead>\n",
       "  <tbody>\n",
       "    <tr>\n",
       "      <th>count</th>\n",
       "      <td>46.000000</td>\n",
       "      <td>46.000000</td>\n",
       "      <td>46.000000</td>\n",
       "      <td>46.000000</td>\n",
       "      <td>46.000000</td>\n",
       "      <td>46.000000</td>\n",
       "      <td>46.000000</td>\n",
       "      <td>46.000000</td>\n",
       "      <td>46.000000</td>\n",
       "      <td>46.000000</td>\n",
       "      <td>...</td>\n",
       "      <td>46.000000</td>\n",
       "      <td>46.000000</td>\n",
       "      <td>46.000000</td>\n",
       "      <td>46.000000</td>\n",
       "      <td>46.000000</td>\n",
       "      <td>46.000000</td>\n",
       "      <td>46.000000</td>\n",
       "      <td>46.000000</td>\n",
       "      <td>46.000000</td>\n",
       "      <td>46.000000</td>\n",
       "    </tr>\n",
       "    <tr>\n",
       "      <th>mean</th>\n",
       "      <td>23.500000</td>\n",
       "      <td>1.260870</td>\n",
       "      <td>8.454348</td>\n",
       "      <td>7.494783</td>\n",
       "      <td>6.805104</td>\n",
       "      <td>30.163171</td>\n",
       "      <td>30.367495</td>\n",
       "      <td>43.447206</td>\n",
       "      <td>26.185300</td>\n",
       "      <td>43.734783</td>\n",
       "      <td>...</td>\n",
       "      <td>6.886957</td>\n",
       "      <td>7.932609</td>\n",
       "      <td>66.858178</td>\n",
       "      <td>41.966874</td>\n",
       "      <td>127.268587</td>\n",
       "      <td>0.370652</td>\n",
       "      <td>39.587210</td>\n",
       "      <td>0.674216</td>\n",
       "      <td>82.091304</td>\n",
       "      <td>9.935000</td>\n",
       "    </tr>\n",
       "    <tr>\n",
       "      <th>std</th>\n",
       "      <td>13.422618</td>\n",
       "      <td>0.443961</td>\n",
       "      <td>2.927851</td>\n",
       "      <td>0.589662</td>\n",
       "      <td>4.146390</td>\n",
       "      <td>12.714785</td>\n",
       "      <td>22.694289</td>\n",
       "      <td>22.330618</td>\n",
       "      <td>15.266217</td>\n",
       "      <td>35.235772</td>\n",
       "      <td>...</td>\n",
       "      <td>10.680525</td>\n",
       "      <td>17.427884</td>\n",
       "      <td>31.302039</td>\n",
       "      <td>32.380580</td>\n",
       "      <td>226.972376</td>\n",
       "      <td>0.381083</td>\n",
       "      <td>69.059513</td>\n",
       "      <td>0.035755</td>\n",
       "      <td>143.351637</td>\n",
       "      <td>17.802485</td>\n",
       "    </tr>\n",
       "    <tr>\n",
       "      <th>min</th>\n",
       "      <td>1.000000</td>\n",
       "      <td>1.000000</td>\n",
       "      <td>4.200000</td>\n",
       "      <td>6.050000</td>\n",
       "      <td>2.533330</td>\n",
       "      <td>4.583330</td>\n",
       "      <td>0.000000</td>\n",
       "      <td>0.000000</td>\n",
       "      <td>0.000000</td>\n",
       "      <td>0.000000</td>\n",
       "      <td>...</td>\n",
       "      <td>0.000000</td>\n",
       "      <td>0.000000</td>\n",
       "      <td>0.000000</td>\n",
       "      <td>0.000000</td>\n",
       "      <td>2.632000</td>\n",
       "      <td>0.010000</td>\n",
       "      <td>1.106667</td>\n",
       "      <td>0.584495</td>\n",
       "      <td>2.160000</td>\n",
       "      <td>0.280000</td>\n",
       "    </tr>\n",
       "    <tr>\n",
       "      <th>25%</th>\n",
       "      <td>12.250000</td>\n",
       "      <td>1.000000</td>\n",
       "      <td>6.800000</td>\n",
       "      <td>7.227500</td>\n",
       "      <td>4.164580</td>\n",
       "      <td>21.312500</td>\n",
       "      <td>16.666670</td>\n",
       "      <td>33.333330</td>\n",
       "      <td>16.666670</td>\n",
       "      <td>9.000000</td>\n",
       "      <td>...</td>\n",
       "      <td>0.000000</td>\n",
       "      <td>0.000000</td>\n",
       "      <td>50.000000</td>\n",
       "      <td>16.666667</td>\n",
       "      <td>14.561000</td>\n",
       "      <td>0.117500</td>\n",
       "      <td>3.892292</td>\n",
       "      <td>0.661093</td>\n",
       "      <td>8.120000</td>\n",
       "      <td>1.012500</td>\n",
       "    </tr>\n",
       "    <tr>\n",
       "      <th>50%</th>\n",
       "      <td>23.500000</td>\n",
       "      <td>1.000000</td>\n",
       "      <td>7.700000</td>\n",
       "      <td>7.530000</td>\n",
       "      <td>6.211900</td>\n",
       "      <td>27.208330</td>\n",
       "      <td>33.333330</td>\n",
       "      <td>33.333333</td>\n",
       "      <td>33.333330</td>\n",
       "      <td>40.850000</td>\n",
       "      <td>...</td>\n",
       "      <td>2.100000</td>\n",
       "      <td>0.000000</td>\n",
       "      <td>66.666667</td>\n",
       "      <td>36.666667</td>\n",
       "      <td>43.620000</td>\n",
       "      <td>0.285000</td>\n",
       "      <td>12.476667</td>\n",
       "      <td>0.675903</td>\n",
       "      <td>25.915000</td>\n",
       "      <td>2.930000</td>\n",
       "    </tr>\n",
       "    <tr>\n",
       "      <th>75%</th>\n",
       "      <td>34.750000</td>\n",
       "      <td>1.750000</td>\n",
       "      <td>9.900000</td>\n",
       "      <td>7.755000</td>\n",
       "      <td>7.830830</td>\n",
       "      <td>39.093750</td>\n",
       "      <td>50.000000</td>\n",
       "      <td>66.666669</td>\n",
       "      <td>33.333330</td>\n",
       "      <td>80.850000</td>\n",
       "      <td>...</td>\n",
       "      <td>8.100000</td>\n",
       "      <td>4.575000</td>\n",
       "      <td>100.000000</td>\n",
       "      <td>66.666667</td>\n",
       "      <td>100.393000</td>\n",
       "      <td>0.417500</td>\n",
       "      <td>28.313333</td>\n",
       "      <td>0.689149</td>\n",
       "      <td>62.610000</td>\n",
       "      <td>7.562500</td>\n",
       "    </tr>\n",
       "    <tr>\n",
       "      <th>max</th>\n",
       "      <td>46.000000</td>\n",
       "      <td>2.000000</td>\n",
       "      <td>18.600000</td>\n",
       "      <td>9.600000</td>\n",
       "      <td>22.000000</td>\n",
       "      <td>60.333330</td>\n",
       "      <td>100.000000</td>\n",
       "      <td>83.333333</td>\n",
       "      <td>50.000000</td>\n",
       "      <td>100.000000</td>\n",
       "      <td>...</td>\n",
       "      <td>36.700000</td>\n",
       "      <td>78.300000</td>\n",
       "      <td>100.000000</td>\n",
       "      <td>100.000000</td>\n",
       "      <td>1093.994000</td>\n",
       "      <td>2.060000</td>\n",
       "      <td>326.149167</td>\n",
       "      <td>0.785483</td>\n",
       "      <td>678.260000</td>\n",
       "      <td>84.030000</td>\n",
       "    </tr>\n",
       "  </tbody>\n",
       "</table>\n",
       "<p>8 rows × 24 columns</p>\n",
       "</div>"
      ],
      "text/plain": [
       "           SiteN      State         DO         pH     avg_WW  avg_Depth  \\\n",
       "count  46.000000  46.000000  46.000000  46.000000  46.000000  46.000000   \n",
       "mean   23.500000   1.260870   8.454348   7.494783   6.805104  30.163171   \n",
       "std    13.422618   0.443961   2.927851   0.589662   4.146390  12.714785   \n",
       "min     1.000000   1.000000   4.200000   6.050000   2.533330   4.583330   \n",
       "25%    12.250000   1.000000   6.800000   7.227500   4.164580  21.312500   \n",
       "50%    23.500000   1.000000   7.700000   7.530000   6.211900  27.208330   \n",
       "75%    34.750000   1.750000   9.900000   7.755000   7.830830  39.093750   \n",
       "max    46.000000   2.000000  18.600000   9.600000  22.000000  60.333330   \n",
       "\n",
       "       pflow_Pool  pflow_Run  pflow_Riffle  pbottom_Mud  ...  pbottom_Boulder  \\\n",
       "count   46.000000  46.000000     46.000000    46.000000  ...        46.000000   \n",
       "mean    30.367495  43.447206     26.185300    43.734783  ...         6.886957   \n",
       "std     22.694289  22.330618     15.266217    35.235772  ...        10.680525   \n",
       "min      0.000000   0.000000      0.000000     0.000000  ...         0.000000   \n",
       "25%     16.666670  33.333330     16.666670     9.000000  ...         0.000000   \n",
       "50%     33.333330  33.333333     33.333330    40.850000  ...         2.100000   \n",
       "75%     50.000000  66.666669     33.333330    80.850000  ...         8.100000   \n",
       "max    100.000000  83.333333     50.000000   100.000000  ...        36.700000   \n",
       "\n",
       "       pbottom_Bedrock  pfloat_macrophytes   pfloat_wood   upstreamCumDA_km2  \\\n",
       "count        46.000000            46.000000     46.000000          46.000000   \n",
       "mean          7.932609            66.858178     41.966874         127.268587   \n",
       "std          17.427884            31.302039     32.380580         226.972376   \n",
       "min           0.000000             0.000000      0.000000           2.632000   \n",
       "25%           0.000000            50.000000     16.666667          14.561000   \n",
       "50%           0.000000            66.666667     36.666667          43.620000   \n",
       "75%           4.575000           100.000000     66.666667         100.393000   \n",
       "max          78.300000           100.000000    100.000000        1093.994000   \n",
       "\n",
       "       slopePercent  avgMonthFlow_cfs    CV_flow  maxMonthFlow_cfs  \\\n",
       "count     46.000000         46.000000  46.000000         46.000000   \n",
       "mean       0.370652         39.587210   0.674216         82.091304   \n",
       "std        0.381083         69.059513   0.035755        143.351637   \n",
       "min        0.010000          1.106667   0.584495          2.160000   \n",
       "25%        0.117500          3.892292   0.661093          8.120000   \n",
       "50%        0.285000         12.476667   0.675903         25.915000   \n",
       "75%        0.417500         28.313333   0.689149         62.610000   \n",
       "max        2.060000        326.149167   0.785483        678.260000   \n",
       "\n",
       "       minMonthFlow_cfs  \n",
       "count         46.000000  \n",
       "mean           9.935000  \n",
       "std           17.802485  \n",
       "min            0.280000  \n",
       "25%            1.012500  \n",
       "50%            2.930000  \n",
       "75%            7.562500  \n",
       "max           84.030000  \n",
       "\n",
       "[8 rows x 24 columns]"
      ]
     },
     "execution_count": 7,
     "metadata": {},
     "output_type": "execute_result"
    }
   ],
   "source": [
    "# Get a statistical description of the envData_df DataFrame\n",
    "envData_df.describe()"
   ]
  },
  {
   "cell_type": "code",
   "execution_count": 8,
   "metadata": {},
   "outputs": [
    {
     "data": {
      "text/plain": [
       "pflow_Riffle\n",
       "33.333330    16\n",
       "16.666670     9\n",
       "0.000000      7\n",
       "50.000000     6\n",
       "33.333333     2\n",
       "16.666667     2\n",
       "20.000000     1\n",
       "25.000000     1\n",
       "42.857143     1\n",
       "33.333333     1\n",
       "Name: count, dtype: int64"
      ]
     },
     "execution_count": 8,
     "metadata": {},
     "output_type": "execute_result"
    }
   ],
   "source": [
    "# Look at the value_counts() method on the \"pflow_Riffle\" column of the envData_df\n",
    "envData_df[\"pflow_Riffle\"].value_counts()"
   ]
  },
  {
   "cell_type": "code",
   "execution_count": 9,
   "metadata": {},
   "outputs": [
    {
     "data": {
      "text/plain": [
       "pflow_Riffle\n",
       "33.333330    0.347826\n",
       "16.666670    0.195652\n",
       "0.000000     0.152174\n",
       "50.000000    0.130435\n",
       "33.333333    0.043478\n",
       "16.666667    0.043478\n",
       "20.000000    0.021739\n",
       "25.000000    0.021739\n",
       "42.857143    0.021739\n",
       "33.333333    0.021739\n",
       "Name: proportion, dtype: float64"
      ]
     },
     "execution_count": 9,
     "metadata": {},
     "output_type": "execute_result"
    }
   ],
   "source": [
    "# Compare with value_counts(normalize = True)\n",
    "envData_df[\"pflow_Riffle\"].value_counts(normalize = True)"
   ]
  },
  {
   "cell_type": "markdown",
   "metadata": {},
   "source": [
    "## How to get Group-level Statistics & Aggregations"
   ]
  },
  {
   "cell_type": "code",
   "execution_count": 10,
   "metadata": {
    "scrolled": false
   },
   "outputs": [
    {
     "data": {
      "text/html": [
       "<div>\n",
       "<style scoped>\n",
       "    .dataframe tbody tr th:only-of-type {\n",
       "        vertical-align: middle;\n",
       "    }\n",
       "\n",
       "    .dataframe tbody tr th {\n",
       "        vertical-align: top;\n",
       "    }\n",
       "\n",
       "    .dataframe thead th {\n",
       "        text-align: right;\n",
       "    }\n",
       "</style>\n",
       "<table border=\"1\" class=\"dataframe\">\n",
       "  <thead>\n",
       "    <tr style=\"text-align: right;\">\n",
       "      <th></th>\n",
       "      <th>petalWidth_cm</th>\n",
       "    </tr>\n",
       "    <tr>\n",
       "      <th>type</th>\n",
       "      <th></th>\n",
       "    </tr>\n",
       "  </thead>\n",
       "  <tbody>\n",
       "    <tr>\n",
       "      <th>setosa</th>\n",
       "      <td>0.244</td>\n",
       "    </tr>\n",
       "    <tr>\n",
       "      <th>versicolor</th>\n",
       "      <td>1.326</td>\n",
       "    </tr>\n",
       "    <tr>\n",
       "      <th>virginica</th>\n",
       "      <td>2.026</td>\n",
       "    </tr>\n",
       "  </tbody>\n",
       "</table>\n",
       "</div>"
      ],
      "text/plain": [
       "            petalWidth_cm\n",
       "type                     \n",
       "setosa              0.244\n",
       "versicolor          1.326\n",
       "virginica           2.026"
      ]
     },
     "execution_count": 10,
     "metadata": {},
     "output_type": "execute_result"
    }
   ],
   "source": [
    "# Group the iris data by \"type\" and compare the petalWidth_cm mean values for each of the three types\n",
    "irisData_df.groupby('type')[['petalWidth_cm']].mean()"
   ]
  },
  {
   "cell_type": "code",
   "execution_count": 11,
   "metadata": {},
   "outputs": [
    {
     "data": {
      "text/html": [
       "<div>\n",
       "<style scoped>\n",
       "    .dataframe tbody tr th:only-of-type {\n",
       "        vertical-align: middle;\n",
       "    }\n",
       "\n",
       "    .dataframe tbody tr th {\n",
       "        vertical-align: top;\n",
       "    }\n",
       "\n",
       "    .dataframe thead th {\n",
       "        text-align: right;\n",
       "    }\n",
       "</style>\n",
       "<table border=\"1\" class=\"dataframe\">\n",
       "  <thead>\n",
       "    <tr style=\"text-align: right;\">\n",
       "      <th></th>\n",
       "      <th>pbottom_Mud</th>\n",
       "    </tr>\n",
       "    <tr>\n",
       "      <th>State</th>\n",
       "      <th></th>\n",
       "    </tr>\n",
       "  </thead>\n",
       "  <tbody>\n",
       "    <tr>\n",
       "      <th>1</th>\n",
       "      <td>55.185294</td>\n",
       "    </tr>\n",
       "    <tr>\n",
       "      <th>2</th>\n",
       "      <td>11.291667</td>\n",
       "    </tr>\n",
       "  </tbody>\n",
       "</table>\n",
       "</div>"
      ],
      "text/plain": [
       "       pbottom_Mud\n",
       "State             \n",
       "1        55.185294\n",
       "2        11.291667"
      ]
     },
     "execution_count": 11,
     "metadata": {},
     "output_type": "execute_result"
    }
   ],
   "source": [
    "# Group the env data by \"State\" and compare which state has the most mud in the streams (pbottom_Mud)\n",
    "envData_df.groupby('State')[['pbottom_Mud']].mean()"
   ]
  },
  {
   "cell_type": "code",
   "execution_count": 12,
   "metadata": {},
   "outputs": [
    {
     "name": "stdout",
     "output_type": "stream",
     "text": [
      "<class 'pandas.core.frame.DataFrame'>\n",
      "RangeIndex: 898 entries, 0 to 897\n",
      "Data columns (total 35 columns):\n",
      " #   Column         Non-Null Count  Dtype  \n",
      "---  ------         --------------  -----  \n",
      " 0   AREA           898 non-null    int64  \n",
      " 1   PERIMETER      898 non-null    float64\n",
      " 2   MAJOR_AXIS     898 non-null    float64\n",
      " 3   MINOR_AXIS     898 non-null    float64\n",
      " 4   ECCENTRICITY   898 non-null    float64\n",
      " 5   EQDIASQ        898 non-null    float64\n",
      " 6   SOLIDITY       898 non-null    float64\n",
      " 7   CONVEX_AREA    898 non-null    int64  \n",
      " 8   EXTENT         898 non-null    float64\n",
      " 9   ASPECT_RATIO   898 non-null    float64\n",
      " 10  ROUNDNESS      898 non-null    float64\n",
      " 11  COMPACTNESS    898 non-null    float64\n",
      " 12  SHAPEFACTOR_1  898 non-null    float64\n",
      " 13  SHAPEFACTOR_2  898 non-null    float64\n",
      " 14  SHAPEFACTOR_3  898 non-null    float64\n",
      " 15  SHAPEFACTOR_4  898 non-null    float64\n",
      " 16  MeanRR         898 non-null    float64\n",
      " 17  MeanRG         898 non-null    float64\n",
      " 18  MeanRB         898 non-null    float64\n",
      " 19  StdDevRR       898 non-null    float64\n",
      " 20  StdDevRG       898 non-null    float64\n",
      " 21  StdDevRB       898 non-null    float64\n",
      " 22  SkewRR         898 non-null    float64\n",
      " 23  SkewRG         898 non-null    float64\n",
      " 24  SkewRB         898 non-null    float64\n",
      " 25  KurtosisRR     898 non-null    float64\n",
      " 26  KurtosisRG     898 non-null    float64\n",
      " 27  KurtosisRB     898 non-null    float64\n",
      " 28  EntropyRR      898 non-null    float64\n",
      " 29  EntropyRG      898 non-null    int64  \n",
      " 30  EntropyRB      898 non-null    int64  \n",
      " 31  ALLdaub4RR     898 non-null    float64\n",
      " 32  ALLdaub4RG     898 non-null    float64\n",
      " 33  ALLdaub4RB     898 non-null    float64\n",
      " 34  Class          898 non-null    object \n",
      "dtypes: float64(30), int64(4), object(1)\n",
      "memory usage: 245.7+ KB\n"
     ]
    }
   ],
   "source": [
    "# Get info for the dateFruitData_df data\n",
    "dateFruitData_df.info()"
   ]
  },
  {
   "cell_type": "code",
   "execution_count": 13,
   "metadata": {},
   "outputs": [
    {
     "data": {
      "text/html": [
       "<div>\n",
       "<style scoped>\n",
       "    .dataframe tbody tr th:only-of-type {\n",
       "        vertical-align: middle;\n",
       "    }\n",
       "\n",
       "    .dataframe tbody tr th {\n",
       "        vertical-align: top;\n",
       "    }\n",
       "\n",
       "    .dataframe thead th {\n",
       "        text-align: right;\n",
       "    }\n",
       "</style>\n",
       "<table border=\"1\" class=\"dataframe\">\n",
       "  <thead>\n",
       "    <tr style=\"text-align: right;\">\n",
       "      <th></th>\n",
       "      <th>AREA</th>\n",
       "      <th>PERIMETER</th>\n",
       "      <th>MAJOR_AXIS</th>\n",
       "      <th>MINOR_AXIS</th>\n",
       "      <th>ECCENTRICITY</th>\n",
       "      <th>EQDIASQ</th>\n",
       "      <th>SOLIDITY</th>\n",
       "      <th>CONVEX_AREA</th>\n",
       "      <th>EXTENT</th>\n",
       "      <th>ASPECT_RATIO</th>\n",
       "      <th>...</th>\n",
       "      <th>SkewRB</th>\n",
       "      <th>KurtosisRR</th>\n",
       "      <th>KurtosisRG</th>\n",
       "      <th>KurtosisRB</th>\n",
       "      <th>EntropyRR</th>\n",
       "      <th>EntropyRG</th>\n",
       "      <th>EntropyRB</th>\n",
       "      <th>ALLdaub4RR</th>\n",
       "      <th>ALLdaub4RG</th>\n",
       "      <th>ALLdaub4RB</th>\n",
       "    </tr>\n",
       "  </thead>\n",
       "  <tbody>\n",
       "    <tr>\n",
       "      <th>count</th>\n",
       "      <td>898.000000</td>\n",
       "      <td>898.000000</td>\n",
       "      <td>898.000000</td>\n",
       "      <td>898.000000</td>\n",
       "      <td>898.000000</td>\n",
       "      <td>898.000000</td>\n",
       "      <td>898.000000</td>\n",
       "      <td>898.000000</td>\n",
       "      <td>898.000000</td>\n",
       "      <td>898.000000</td>\n",
       "      <td>...</td>\n",
       "      <td>898.000000</td>\n",
       "      <td>898.000000</td>\n",
       "      <td>898.000000</td>\n",
       "      <td>898.000000</td>\n",
       "      <td>8.980000e+02</td>\n",
       "      <td>8.980000e+02</td>\n",
       "      <td>8.980000e+02</td>\n",
       "      <td>898.000000</td>\n",
       "      <td>898.000000</td>\n",
       "      <td>898.000000</td>\n",
       "    </tr>\n",
       "    <tr>\n",
       "      <th>mean</th>\n",
       "      <td>298295.207127</td>\n",
       "      <td>2057.660953</td>\n",
       "      <td>750.811994</td>\n",
       "      <td>495.872785</td>\n",
       "      <td>0.737468</td>\n",
       "      <td>604.577938</td>\n",
       "      <td>0.981840</td>\n",
       "      <td>303845.592428</td>\n",
       "      <td>0.736267</td>\n",
       "      <td>2.131102</td>\n",
       "      <td>...</td>\n",
       "      <td>0.250518</td>\n",
       "      <td>4.247845</td>\n",
       "      <td>5.110894</td>\n",
       "      <td>3.780928</td>\n",
       "      <td>-3.185021e+10</td>\n",
       "      <td>-2.901860e+10</td>\n",
       "      <td>-2.771876e+10</td>\n",
       "      <td>50.082888</td>\n",
       "      <td>48.805681</td>\n",
       "      <td>48.098393</td>\n",
       "    </tr>\n",
       "    <tr>\n",
       "      <th>std</th>\n",
       "      <td>107245.205337</td>\n",
       "      <td>410.012459</td>\n",
       "      <td>144.059326</td>\n",
       "      <td>114.268917</td>\n",
       "      <td>0.088727</td>\n",
       "      <td>119.593888</td>\n",
       "      <td>0.018157</td>\n",
       "      <td>108815.656947</td>\n",
       "      <td>0.053745</td>\n",
       "      <td>17.820778</td>\n",
       "      <td>...</td>\n",
       "      <td>0.632918</td>\n",
       "      <td>2.892357</td>\n",
       "      <td>3.745463</td>\n",
       "      <td>2.049831</td>\n",
       "      <td>2.037241e+10</td>\n",
       "      <td>1.712952e+10</td>\n",
       "      <td>1.484137e+10</td>\n",
       "      <td>16.063125</td>\n",
       "      <td>14.125911</td>\n",
       "      <td>10.813862</td>\n",
       "    </tr>\n",
       "    <tr>\n",
       "      <th>min</th>\n",
       "      <td>1987.000000</td>\n",
       "      <td>911.828000</td>\n",
       "      <td>336.722700</td>\n",
       "      <td>2.283200</td>\n",
       "      <td>0.344800</td>\n",
       "      <td>50.298400</td>\n",
       "      <td>0.836600</td>\n",
       "      <td>2257.000000</td>\n",
       "      <td>0.512300</td>\n",
       "      <td>1.065300</td>\n",
       "      <td>...</td>\n",
       "      <td>-1.029100</td>\n",
       "      <td>1.708200</td>\n",
       "      <td>1.607600</td>\n",
       "      <td>1.767200</td>\n",
       "      <td>-1.091220e+11</td>\n",
       "      <td>-9.261697e+10</td>\n",
       "      <td>-8.747177e+10</td>\n",
       "      <td>15.191100</td>\n",
       "      <td>20.524700</td>\n",
       "      <td>22.130000</td>\n",
       "    </tr>\n",
       "    <tr>\n",
       "      <th>25%</th>\n",
       "      <td>206948.000000</td>\n",
       "      <td>1726.091500</td>\n",
       "      <td>641.068650</td>\n",
       "      <td>404.684375</td>\n",
       "      <td>0.685625</td>\n",
       "      <td>513.317075</td>\n",
       "      <td>0.978825</td>\n",
       "      <td>210022.750000</td>\n",
       "      <td>0.705875</td>\n",
       "      <td>1.373725</td>\n",
       "      <td>...</td>\n",
       "      <td>-0.196950</td>\n",
       "      <td>2.536625</td>\n",
       "      <td>2.508850</td>\n",
       "      <td>2.577275</td>\n",
       "      <td>-4.429444e+10</td>\n",
       "      <td>-3.894638e+10</td>\n",
       "      <td>-3.564534e+10</td>\n",
       "      <td>38.224425</td>\n",
       "      <td>38.654525</td>\n",
       "      <td>39.250725</td>\n",
       "    </tr>\n",
       "    <tr>\n",
       "      <th>50%</th>\n",
       "      <td>319833.000000</td>\n",
       "      <td>2196.345450</td>\n",
       "      <td>791.363400</td>\n",
       "      <td>495.054850</td>\n",
       "      <td>0.754700</td>\n",
       "      <td>638.140950</td>\n",
       "      <td>0.987300</td>\n",
       "      <td>327207.000000</td>\n",
       "      <td>0.746950</td>\n",
       "      <td>1.524150</td>\n",
       "      <td>...</td>\n",
       "      <td>0.135550</td>\n",
       "      <td>3.069800</td>\n",
       "      <td>3.127800</td>\n",
       "      <td>3.080700</td>\n",
       "      <td>-2.826156e+10</td>\n",
       "      <td>-2.620990e+10</td>\n",
       "      <td>-2.392928e+10</td>\n",
       "      <td>53.841300</td>\n",
       "      <td>50.337800</td>\n",
       "      <td>49.614100</td>\n",
       "    </tr>\n",
       "    <tr>\n",
       "      <th>75%</th>\n",
       "      <td>382573.000000</td>\n",
       "      <td>2389.716575</td>\n",
       "      <td>858.633750</td>\n",
       "      <td>589.031700</td>\n",
       "      <td>0.802150</td>\n",
       "      <td>697.930525</td>\n",
       "      <td>0.991800</td>\n",
       "      <td>388804.000000</td>\n",
       "      <td>0.775850</td>\n",
       "      <td>1.674750</td>\n",
       "      <td>...</td>\n",
       "      <td>0.593950</td>\n",
       "      <td>4.449850</td>\n",
       "      <td>7.320400</td>\n",
       "      <td>4.283125</td>\n",
       "      <td>-1.460482e+10</td>\n",
       "      <td>-1.433105e+10</td>\n",
       "      <td>-1.660367e+10</td>\n",
       "      <td>63.063350</td>\n",
       "      <td>59.573600</td>\n",
       "      <td>56.666675</td>\n",
       "    </tr>\n",
       "    <tr>\n",
       "      <th>max</th>\n",
       "      <td>546063.000000</td>\n",
       "      <td>2811.997100</td>\n",
       "      <td>1222.723000</td>\n",
       "      <td>766.453600</td>\n",
       "      <td>1.000000</td>\n",
       "      <td>833.827900</td>\n",
       "      <td>0.997400</td>\n",
       "      <td>552598.000000</td>\n",
       "      <td>0.856200</td>\n",
       "      <td>535.525700</td>\n",
       "      <td>...</td>\n",
       "      <td>3.092300</td>\n",
       "      <td>26.171100</td>\n",
       "      <td>26.736700</td>\n",
       "      <td>32.249500</td>\n",
       "      <td>-1.627316e+08</td>\n",
       "      <td>-5.627727e+08</td>\n",
       "      <td>-4.370435e+08</td>\n",
       "      <td>79.828900</td>\n",
       "      <td>83.064900</td>\n",
       "      <td>74.104600</td>\n",
       "    </tr>\n",
       "  </tbody>\n",
       "</table>\n",
       "<p>8 rows × 34 columns</p>\n",
       "</div>"
      ],
      "text/plain": [
       "                AREA    PERIMETER   MAJOR_AXIS  MINOR_AXIS  ECCENTRICITY  \\\n",
       "count     898.000000   898.000000   898.000000  898.000000    898.000000   \n",
       "mean   298295.207127  2057.660953   750.811994  495.872785      0.737468   \n",
       "std    107245.205337   410.012459   144.059326  114.268917      0.088727   \n",
       "min      1987.000000   911.828000   336.722700    2.283200      0.344800   \n",
       "25%    206948.000000  1726.091500   641.068650  404.684375      0.685625   \n",
       "50%    319833.000000  2196.345450   791.363400  495.054850      0.754700   \n",
       "75%    382573.000000  2389.716575   858.633750  589.031700      0.802150   \n",
       "max    546063.000000  2811.997100  1222.723000  766.453600      1.000000   \n",
       "\n",
       "          EQDIASQ    SOLIDITY    CONVEX_AREA      EXTENT  ASPECT_RATIO  ...  \\\n",
       "count  898.000000  898.000000     898.000000  898.000000    898.000000  ...   \n",
       "mean   604.577938    0.981840  303845.592428    0.736267      2.131102  ...   \n",
       "std    119.593888    0.018157  108815.656947    0.053745     17.820778  ...   \n",
       "min     50.298400    0.836600    2257.000000    0.512300      1.065300  ...   \n",
       "25%    513.317075    0.978825  210022.750000    0.705875      1.373725  ...   \n",
       "50%    638.140950    0.987300  327207.000000    0.746950      1.524150  ...   \n",
       "75%    697.930525    0.991800  388804.000000    0.775850      1.674750  ...   \n",
       "max    833.827900    0.997400  552598.000000    0.856200    535.525700  ...   \n",
       "\n",
       "           SkewRB  KurtosisRR  KurtosisRG  KurtosisRB     EntropyRR  \\\n",
       "count  898.000000  898.000000  898.000000  898.000000  8.980000e+02   \n",
       "mean     0.250518    4.247845    5.110894    3.780928 -3.185021e+10   \n",
       "std      0.632918    2.892357    3.745463    2.049831  2.037241e+10   \n",
       "min     -1.029100    1.708200    1.607600    1.767200 -1.091220e+11   \n",
       "25%     -0.196950    2.536625    2.508850    2.577275 -4.429444e+10   \n",
       "50%      0.135550    3.069800    3.127800    3.080700 -2.826156e+10   \n",
       "75%      0.593950    4.449850    7.320400    4.283125 -1.460482e+10   \n",
       "max      3.092300   26.171100   26.736700   32.249500 -1.627316e+08   \n",
       "\n",
       "          EntropyRG     EntropyRB  ALLdaub4RR  ALLdaub4RG  ALLdaub4RB  \n",
       "count  8.980000e+02  8.980000e+02  898.000000  898.000000  898.000000  \n",
       "mean  -2.901860e+10 -2.771876e+10   50.082888   48.805681   48.098393  \n",
       "std    1.712952e+10  1.484137e+10   16.063125   14.125911   10.813862  \n",
       "min   -9.261697e+10 -8.747177e+10   15.191100   20.524700   22.130000  \n",
       "25%   -3.894638e+10 -3.564534e+10   38.224425   38.654525   39.250725  \n",
       "50%   -2.620990e+10 -2.392928e+10   53.841300   50.337800   49.614100  \n",
       "75%   -1.433105e+10 -1.660367e+10   63.063350   59.573600   56.666675  \n",
       "max   -5.627727e+08 -4.370435e+08   79.828900   83.064900   74.104600  \n",
       "\n",
       "[8 rows x 34 columns]"
      ]
     },
     "execution_count": 13,
     "metadata": {},
     "output_type": "execute_result"
    }
   ],
   "source": [
    "# Get a statistical description of the dateFruitData_df numerical columns\n",
    "dateFruitData_df.describe()"
   ]
  },
  {
   "cell_type": "code",
   "execution_count": 14,
   "metadata": {},
   "outputs": [
    {
     "data": {
      "text/plain": [
       "-0.6396927081175434"
      ]
     },
     "execution_count": 14,
     "metadata": {},
     "output_type": "execute_result"
    }
   ],
   "source": [
    "# Group the data fruit data by \"Class\" and compare the MAJOR_AXIS\n",
    "dateFruitData_df.groupby('Class')[['MAJOR_AXIS']].mean()\n",
    "dateFruitData_df['MINOR_AXIS'].kurtosis()"
   ]
  },
  {
   "cell_type": "code",
   "execution_count": 15,
   "metadata": {
    "scrolled": false
   },
   "outputs": [
    {
     "data": {
      "text/html": [
       "<div>\n",
       "<style scoped>\n",
       "    .dataframe tbody tr th:only-of-type {\n",
       "        vertical-align: middle;\n",
       "    }\n",
       "\n",
       "    .dataframe tbody tr th {\n",
       "        vertical-align: top;\n",
       "    }\n",
       "\n",
       "    .dataframe thead th {\n",
       "        text-align: right;\n",
       "    }\n",
       "</style>\n",
       "<table border=\"1\" class=\"dataframe\">\n",
       "  <thead>\n",
       "    <tr style=\"text-align: right;\">\n",
       "      <th></th>\n",
       "      <th>MAJOR_AXIS</th>\n",
       "    </tr>\n",
       "    <tr>\n",
       "      <th>Class</th>\n",
       "      <th></th>\n",
       "    </tr>\n",
       "  </thead>\n",
       "  <tbody>\n",
       "    <tr>\n",
       "      <th>DOKOL</th>\n",
       "      <td>537.843773</td>\n",
       "    </tr>\n",
       "    <tr>\n",
       "      <th>DEGLET</th>\n",
       "      <td>680.222427</td>\n",
       "    </tr>\n",
       "    <tr>\n",
       "      <th>SOGAY</th>\n",
       "      <td>755.978483</td>\n",
       "    </tr>\n",
       "    <tr>\n",
       "      <th>BERHI</th>\n",
       "      <td>815.370329</td>\n",
       "    </tr>\n",
       "    <tr>\n",
       "      <th>ROTANA</th>\n",
       "      <td>832.475543</td>\n",
       "    </tr>\n",
       "    <tr>\n",
       "      <th>IRAQI</th>\n",
       "      <td>836.104518</td>\n",
       "    </tr>\n",
       "    <tr>\n",
       "      <th>SAFAVI</th>\n",
       "      <td>881.385573</td>\n",
       "    </tr>\n",
       "  </tbody>\n",
       "</table>\n",
       "</div>"
      ],
      "text/plain": [
       "        MAJOR_AXIS\n",
       "Class             \n",
       "DOKOL   537.843773\n",
       "DEGLET  680.222427\n",
       "SOGAY   755.978483\n",
       "BERHI   815.370329\n",
       "ROTANA  832.475543\n",
       "IRAQI   836.104518\n",
       "SAFAVI  881.385573"
      ]
     },
     "execution_count": 15,
     "metadata": {},
     "output_type": "execute_result"
    }
   ],
   "source": [
    "# Group the data fruit data by \"Class\" and compare the MAJOR_AXIS, but use mean().sort_values(by = 'MAJOR_AXIS')\n",
    "dateFruitData_df.groupby('Class')[['MAJOR_AXIS']].mean().sort_values(by = 'MAJOR_AXIS')"
   ]
  },
  {
   "cell_type": "code",
   "execution_count": 16,
   "metadata": {},
   "outputs": [
    {
     "data": {
      "text/html": [
       "<div>\n",
       "<style scoped>\n",
       "    .dataframe tbody tr th:only-of-type {\n",
       "        vertical-align: middle;\n",
       "    }\n",
       "\n",
       "    .dataframe tbody tr th {\n",
       "        vertical-align: top;\n",
       "    }\n",
       "\n",
       "    .dataframe thead tr th {\n",
       "        text-align: left;\n",
       "    }\n",
       "\n",
       "    .dataframe thead tr:last-of-type th {\n",
       "        text-align: right;\n",
       "    }\n",
       "</style>\n",
       "<table border=\"1\" class=\"dataframe\">\n",
       "  <thead>\n",
       "    <tr>\n",
       "      <th></th>\n",
       "      <th colspan=\"4\" halign=\"left\">MAJOR_AXIS</th>\n",
       "    </tr>\n",
       "    <tr>\n",
       "      <th></th>\n",
       "      <th>mean</th>\n",
       "      <th>median</th>\n",
       "      <th>min</th>\n",
       "      <th>max</th>\n",
       "    </tr>\n",
       "    <tr>\n",
       "      <th>Class</th>\n",
       "      <th></th>\n",
       "      <th></th>\n",
       "      <th></th>\n",
       "      <th></th>\n",
       "    </tr>\n",
       "  </thead>\n",
       "  <tbody>\n",
       "    <tr>\n",
       "      <th>BERHI</th>\n",
       "      <td>815.370329</td>\n",
       "      <td>818.81460</td>\n",
       "      <td>715.4261</td>\n",
       "      <td>940.7379</td>\n",
       "    </tr>\n",
       "    <tr>\n",
       "      <th>DEGLET</th>\n",
       "      <td>680.222427</td>\n",
       "      <td>668.26630</td>\n",
       "      <td>535.5590</td>\n",
       "      <td>875.3194</td>\n",
       "    </tr>\n",
       "    <tr>\n",
       "      <th>DOKOL</th>\n",
       "      <td>537.843773</td>\n",
       "      <td>545.49235</td>\n",
       "      <td>336.7227</td>\n",
       "      <td>733.3027</td>\n",
       "    </tr>\n",
       "    <tr>\n",
       "      <th>IRAQI</th>\n",
       "      <td>836.104518</td>\n",
       "      <td>837.47310</td>\n",
       "      <td>713.5856</td>\n",
       "      <td>953.5176</td>\n",
       "    </tr>\n",
       "    <tr>\n",
       "      <th>ROTANA</th>\n",
       "      <td>832.475543</td>\n",
       "      <td>833.58560</td>\n",
       "      <td>681.3436</td>\n",
       "      <td>943.8856</td>\n",
       "    </tr>\n",
       "    <tr>\n",
       "      <th>SAFAVI</th>\n",
       "      <td>881.385573</td>\n",
       "      <td>884.11440</td>\n",
       "      <td>722.8275</td>\n",
       "      <td>1222.7230</td>\n",
       "    </tr>\n",
       "    <tr>\n",
       "      <th>SOGAY</th>\n",
       "      <td>755.978483</td>\n",
       "      <td>754.94090</td>\n",
       "      <td>622.2163</td>\n",
       "      <td>953.8370</td>\n",
       "    </tr>\n",
       "  </tbody>\n",
       "</table>\n",
       "</div>"
      ],
      "text/plain": [
       "        MAJOR_AXIS                                \n",
       "              mean     median       min        max\n",
       "Class                                             \n",
       "BERHI   815.370329  818.81460  715.4261   940.7379\n",
       "DEGLET  680.222427  668.26630  535.5590   875.3194\n",
       "DOKOL   537.843773  545.49235  336.7227   733.3027\n",
       "IRAQI   836.104518  837.47310  713.5856   953.5176\n",
       "ROTANA  832.475543  833.58560  681.3436   943.8856\n",
       "SAFAVI  881.385573  884.11440  722.8275  1222.7230\n",
       "SOGAY   755.978483  754.94090  622.2163   953.8370"
      ]
     },
     "execution_count": 16,
     "metadata": {},
     "output_type": "execute_result"
    }
   ],
   "source": [
    "# Now get aggregate statistics using .agg(['mean','median','min','max']) instead of .mean()\n",
    "dateFruitData_df.groupby('Class')[['MAJOR_AXIS']].agg(['mean','median','min','max'])"
   ]
  },
  {
   "cell_type": "markdown",
   "metadata": {},
   "source": [
    "## Some Data Visualization Methods from the Pandas DataFrame"
   ]
  },
  {
   "cell_type": "code",
   "execution_count": 17,
   "metadata": {},
   "outputs": [],
   "source": [
    "# Now we will look at some visualization methods\n",
    "%matplotlib inline"
   ]
  },
  {
   "cell_type": "code",
   "execution_count": 18,
   "metadata": {},
   "outputs": [
    {
     "data": {
      "text/plain": [
       "<Axes: title={'center': 'MINOR_AXIS'}, xlabel='Class'>"
      ]
     },
     "execution_count": 18,
     "metadata": {},
     "output_type": "execute_result"
    },
    {
     "data": {
      "image/png": "[encoded data removed]",
      "text/plain": [
       "<Figure size 640x480 with 1 Axes>"
      ]
     },
     "metadata": {},
     "output_type": "display_data"
    },
    {
     "data": {
      "image/png": "[encoded data removed]",
      "text/plain": [
       "<Figure size 640x480 with 1 Axes>"
      ]
     },
     "metadata": {},
     "output_type": "display_data"
    },
    {
     "data": {
      "image/png": "[encoded data removed]",
      "text/plain": [
       "<Figure size 640x480 with 1 Axes>"
      ]
     },
     "metadata": {},
     "output_type": "display_data"
    }
   ],
   "source": [
    "# Example box plot\n",
    "envData_df.pivot(columns = 'State', values = 'pbottom_Mud').plot(kind = 'box')\n",
    "import matplotlib.pyplot as plt\n",
    "plt.ylabel('Mud in Streams')\n",
    "plt.xlabel('State')\n",
    "plt.xticks([1,2], ['Texas', 'Oklahoma'])\n",
    "\n",
    "# Now try comparing the MAJOR_AXIS for the dateFruitData_df Class\n",
    "dateFruitData_df.pivot(columns = 'Class', values = 'MAJOR_AXIS').plot(kind = 'box')\n",
    "dateFruitData_df.boxplot(column = 'MINOR_AXIS', by = 'Class')"
   ]
  },
  {
   "cell_type": "code",
   "execution_count": 19,
   "metadata": {},
   "outputs": [
    {
     "data": {
      "text/plain": [
       "<Axes: xlabel='MAJOR_AXIS', ylabel='AREA'>"
      ]
     },
     "execution_count": 19,
     "metadata": {},
     "output_type": "execute_result"
    },
    {
     "data": {
      "image/png": "[encoded data removed]",
      "text/plain": [
       "<Figure size 640x480 with 1 Axes>"
      ]
     },
     "metadata": {},
     "output_type": "display_data"
    },
    {
     "data": {
      "image/png": "[encoded data removed]",
      "text/plain": [
       "<Figure size 640x480 with 1 Axes>"
      ]
     },
     "metadata": {},
     "output_type": "display_data"
    }
   ],
   "source": [
    "# Example scatter plot\n",
    "envData_df.plot(kind = 'scatter', x = 'upstreamCumDA_km2', y = 'slopePercent')\n",
    "# Now try comparing a scatter plot of the date fruit data MAJOR_AXIS (x-axis) vs. AREA (y-axis)\n",
    "dateFruitData_df.plot(kind = 'scatter', x = 'MAJOR_AXIS', y = 'AREA')"
   ]
  },
  {
   "cell_type": "code",
   "execution_count": 20,
   "metadata": {},
   "outputs": [
    {
     "data": {
      "text/plain": [
       "<Axes: ylabel='Frequency'>"
      ]
     },
     "execution_count": 20,
     "metadata": {},
     "output_type": "execute_result"
    },
    {
     "data": {
      "image/png": "[encoded data removed]",
      "text/plain": [
       "<Figure size 640x480 with 1 Axes>"
      ]
     },
     "metadata": {},
     "output_type": "display_data"
    }
   ],
   "source": [
    "# Histogram plot of the date fruit data MAJOR_AXIS (x-axis)\n",
    "dateFruitData_df['MAJOR_AXIS'].plot(kind = 'hist')"
   ]
  },
  {
   "cell_type": "code",
   "execution_count": 21,
   "metadata": {},
   "outputs": [
    {
     "data": {
      "text/plain": [
       "<Axes: ylabel='Frequency'>"
      ]
     },
     "execution_count": 21,
     "metadata": {},
     "output_type": "execute_result"
    },
    {
     "data": {
      "image/png": "[encoded data removed]",
      "text/plain": [
       "<Figure size 640x480 with 1 Axes>"
      ]
     },
     "metadata": {},
     "output_type": "display_data"
    }
   ],
   "source": [
    "# Now try a histogram of the avg_WW from the fish environmental data\n",
    "envData_df['avg_WW'].plot(kind = 'hist')"
   ]
  },
  {
   "cell_type": "code",
   "execution_count": null,
   "metadata": {},
   "outputs": [],
   "source": []
  }
 ],
 "metadata": {
  "kernelspec": {
   "display_name": "Python 3 (ipykernel)",
   "language": "python",
   "name": "python3"
  },
  "language_info": {
   "codemirror_mode": {
    "name": "ipython",
    "version": 3
   },
   "file_extension": ".py",
   "mimetype": "text/x-python",
   "name": "python",
   "nbconvert_exporter": "python",
   "pygments_lexer": "ipython3",
   "version": "3.11.5"
  }
 },
 "nbformat": 4,
 "nbformat_minor": 4
}
